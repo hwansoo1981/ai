{
  "nbformat": 4,
  "nbformat_minor": 0,
  "metadata": {
    "colab": {
      "name": "Project01-PowerGrid",
      "version": "0.3.2",
      "provenance": [],
      "collapsed_sections": [],
      "include_colab_link": true
    },
    "kernelspec": {
      "name": "python3",
      "display_name": "Python 3"
    }
  },
  "cells": [
    {
      "cell_type": "markdown",
      "metadata": {
        "id": "view-in-github",
        "colab_type": "text"
      },
      "source": [
        "<a href=\"https://colab.research.google.com/github/hwansoo1981/ai/blob/master/GroupA_PowerGrid.ipynb\" target=\"_parent\"><img src=\"https://colab.research.google.com/assets/colab-badge.svg\" alt=\"Open In Colab\"/></a>"
      ]
    },
    {
      "cell_type": "code",
      "metadata": {
        "id": "YZYs7fe1wW7C",
        "colab_type": "code",
        "colab": {}
      },
      "source": [
        "import pandas as pd    # pandas for data sheet\n",
        "import numpy as np    # numpy for numerical computation\n",
        "import matplotlib.pyplot as plt    # draw for plot\n",
        "import seaborn as sns                  # draw for plot\n",
        "from matplotlib import rcParams # draw for plot\n",
        "import scipy.stats as st     # scipy for scientific computation\n",
        "import itertools                 # itertools for iteration preprocessing"
      ],
      "execution_count": 0,
      "outputs": []
    },
    {
      "cell_type": "code",
      "metadata": {
        "id": "WlL-h8iDy0BQ",
        "colab_type": "code",
        "colab": {}
      },
      "source": [
        "dateparse = lambda dates: pd.datetime.strptime(dates, '%Y.%m.%d')\n",
        "\n",
        "# For Google Drive\n",
        "#df_pg = pd.read_csv(\"https://drive.google.com/uc?export=download&id=1R8N2_7ggwzttLtyLqCrf2ng4HeQ7BlHs\", parse_dates=['date'], index_col='date',date_parser=dateparse)\n",
        "\n",
        "# For Github\n",
        "df_pg = pd.read_csv(\"https://raw.githubusercontent.com/hwansoo1981/dataset/master/groupA20190717.csv\", parse_dates=['Date'], index_col='Date',date_parser=dateparse)\n"
      ],
      "execution_count": 0,
      "outputs": []
    },
    {
      "cell_type": "code",
      "metadata": {
        "id": "DnBs0qzty4q2",
        "colab_type": "code",
        "outputId": "6f055036-77cb-43d7-9a6f-466ae0793d44",
        "colab": {
          "base_uri": "https://localhost:8080/",
          "height": 153
        }
      },
      "source": [
        "print(df_pg.shape)\n",
        "print(df_pg.nunique())"
      ],
      "execution_count": 56,
      "outputs": [
        {
          "output_type": "stream",
          "text": [
            "(132, 6)\n",
            "Total                 131\n",
            "Income_per_capital     11\n",
            "Installed_capacity     10\n",
            "Mean_Air_Temp         108\n",
            "Max_Air_Temp          104\n",
            "Min_Air_Temp          110\n",
            "dtype: int64\n"
          ],
          "name": "stdout"
        }
      ]
    },
    {
      "cell_type": "code",
      "metadata": {
        "id": "V-lqTtquy7Ee",
        "colab_type": "code",
        "outputId": "5cf13530-c8ff-49ea-d9ca-2c644bd585bb",
        "colab": {
          "base_uri": "https://localhost:8080/",
          "height": 221
        }
      },
      "source": [
        "print(df_pg.info())"
      ],
      "execution_count": 57,
      "outputs": [
        {
          "output_type": "stream",
          "text": [
            "<class 'pandas.core.frame.DataFrame'>\n",
            "DatetimeIndex: 132 entries, 2008-01-01 to 2018-12-01\n",
            "Data columns (total 6 columns):\n",
            "Total                 132 non-null int64\n",
            "Income_per_capital    132 non-null float64\n",
            "Installed_capacity    132 non-null int64\n",
            "Mean_Air_Temp         132 non-null float64\n",
            "Max_Air_Temp          132 non-null float64\n",
            "Min_Air_Temp          132 non-null float64\n",
            "dtypes: float64(4), int64(2)\n",
            "memory usage: 7.2 KB\n",
            "None\n"
          ],
          "name": "stdout"
        }
      ]
    },
    {
      "cell_type": "code",
      "metadata": {
        "id": "uiE_5uo-0r9q",
        "colab_type": "code",
        "outputId": "354277f1-7260-455e-a0fe-6ef8504a1e94",
        "colab": {
          "base_uri": "https://localhost:8080/",
          "height": 235
        }
      },
      "source": [
        "df_pg.head()"
      ],
      "execution_count": 58,
      "outputs": [
        {
          "output_type": "execute_result",
          "data": {
            "text/html": [
              "<div>\n",
              "<style scoped>\n",
              "    .dataframe tbody tr th:only-of-type {\n",
              "        vertical-align: middle;\n",
              "    }\n",
              "\n",
              "    .dataframe tbody tr th {\n",
              "        vertical-align: top;\n",
              "    }\n",
              "\n",
              "    .dataframe thead th {\n",
              "        text-align: right;\n",
              "    }\n",
              "</style>\n",
              "<table border=\"1\" class=\"dataframe\">\n",
              "  <thead>\n",
              "    <tr style=\"text-align: right;\">\n",
              "      <th></th>\n",
              "      <th>Total</th>\n",
              "      <th>Income_per_capital</th>\n",
              "      <th>Installed_capacity</th>\n",
              "      <th>Mean_Air_Temp</th>\n",
              "      <th>Max_Air_Temp</th>\n",
              "      <th>Min_Air_Temp</th>\n",
              "    </tr>\n",
              "    <tr>\n",
              "      <th>Date</th>\n",
              "      <th></th>\n",
              "      <th></th>\n",
              "      <th></th>\n",
              "      <th></th>\n",
              "      <th></th>\n",
              "      <th></th>\n",
              "    </tr>\n",
              "  </thead>\n",
              "  <tbody>\n",
              "    <tr>\n",
              "      <th>2008-01-01</th>\n",
              "      <td>35129</td>\n",
              "      <td>20430.63946</td>\n",
              "      <td>72491</td>\n",
              "      <td>-1.7</td>\n",
              "      <td>7.3</td>\n",
              "      <td>-11.1</td>\n",
              "    </tr>\n",
              "    <tr>\n",
              "      <th>2008-02-01</th>\n",
              "      <td>34178</td>\n",
              "      <td>20430.63946</td>\n",
              "      <td>72491</td>\n",
              "      <td>-1.2</td>\n",
              "      <td>10.5</td>\n",
              "      <td>-10.1</td>\n",
              "    </tr>\n",
              "    <tr>\n",
              "      <th>2008-03-01</th>\n",
              "      <td>33294</td>\n",
              "      <td>20430.63946</td>\n",
              "      <td>72491</td>\n",
              "      <td>7.3</td>\n",
              "      <td>19.8</td>\n",
              "      <td>-1.7</td>\n",
              "    </tr>\n",
              "    <tr>\n",
              "      <th>2008-04-01</th>\n",
              "      <td>31705</td>\n",
              "      <td>20430.63946</td>\n",
              "      <td>72491</td>\n",
              "      <td>14.1</td>\n",
              "      <td>28.0</td>\n",
              "      <td>3.8</td>\n",
              "    </tr>\n",
              "    <tr>\n",
              "      <th>2008-05-01</th>\n",
              "      <td>30120</td>\n",
              "      <td>20430.63946</td>\n",
              "      <td>72491</td>\n",
              "      <td>17.7</td>\n",
              "      <td>28.5</td>\n",
              "      <td>8.1</td>\n",
              "    </tr>\n",
              "  </tbody>\n",
              "</table>\n",
              "</div>"
            ],
            "text/plain": [
              "            Total  Income_per_capital  ...  Max_Air_Temp  Min_Air_Temp\n",
              "Date                                   ...                            \n",
              "2008-01-01  35129         20430.63946  ...           7.3         -11.1\n",
              "2008-02-01  34178         20430.63946  ...          10.5         -10.1\n",
              "2008-03-01  33294         20430.63946  ...          19.8          -1.7\n",
              "2008-04-01  31705         20430.63946  ...          28.0           3.8\n",
              "2008-05-01  30120         20430.63946  ...          28.5           8.1\n",
              "\n",
              "[5 rows x 6 columns]"
            ]
          },
          "metadata": {
            "tags": []
          },
          "execution_count": 58
        }
      ]
    },
    {
      "cell_type": "code",
      "metadata": {
        "id": "5qd7yv80y4hP",
        "colab_type": "code",
        "outputId": "b775c83f-f404-4f47-e2bd-303f637d61e5",
        "colab": {
          "base_uri": "https://localhost:8080/",
          "height": 461
        }
      },
      "source": [
        "plt.figure(figsize=(18,7))\n",
        "plt.plot(df_pg['Total'])\n",
        "plt.plot(df_pg['Income_per_capital'])\n",
        "plt.plot(df_pg['Installed_capacity'])\n",
        "plt.plot(df_pg['Mean_Air_Temp'])\n",
        "plt.plot(df_pg['Max_Air_Temp'])\n",
        "plt.plot(df_pg['Min_Air_Temp'])\n",
        "\n",
        "plt.legend()\n",
        "plt.title('Time series data for power consumption')"
      ],
      "execution_count": 59,
      "outputs": [
        {
          "output_type": "execute_result",
          "data": {
            "text/plain": [
              "Text(0.5, 1.0, 'Time series data for power consumption')"
            ]
          },
          "metadata": {
            "tags": []
          },
          "execution_count": 59
        },
        {
          "output_type": "display_data",
          "data": {
            "image/png": "[encoded data removed]",
            "text/plain": [
              "<Figure size 1296x504 with 1 Axes>"
            ]
          },
          "metadata": {
            "tags": []
          }
        }
      ]
    },
    {
      "cell_type": "code",
      "metadata": {
        "id": "Y5Sr1vj20uRV",
        "colab_type": "code",
        "outputId": "a5bf234f-640f-4d41-f31e-4312b0961a14",
        "colab": {
          "base_uri": "https://localhost:8080/",
          "height": 415
        }
      },
      "source": [
        "plt.figure(figsize = (12, 6))\n",
        "\n",
        "plt.subplot(121)\n",
        "plt.title('Total Power Consumption Distribuition')\n",
        "sns.distplot(df_pg['Total'])\n",
        "\n",
        "plt.subplot(122)\n",
        "g1 = plt.scatter(range(df_pg.shape[0]), np.sort(df_pg.Total.values))\n",
        "g1 = plt.title(\"Total power consumption Curve Distribuition\", fontsize=15)\n",
        "g1 = plt.xlabel(\"\")\n",
        "g1 = plt.ylabel(\"Power (GWh)\", fontsize=12)\n",
        "\n",
        "plt.subplots_adjust(wspace = 0.3, hspace = 0.5,\n",
        "                    top = 0.9)\n",
        "plt.show()\n"
      ],
      "execution_count": 60,
      "outputs": [
        {
          "output_type": "display_data",
          "data": {
            "image/png": "[encoded data removed]",
            "text/plain": [
              "<Figure size 864x432 with 2 Axes>"
            ]
          },
          "metadata": {
            "tags": []
          }
        }
      ]
    },
    {
      "cell_type": "code",
      "metadata": {
        "id": "2N-yn4Ef1FD9",
        "colab_type": "code",
        "outputId": "5be3a644-2c8d-469b-ba6c-56419aa39055",
        "colab": {
          "base_uri": "https://localhost:8080/",
          "height": 187
        }
      },
      "source": [
        "print(\"Total Min\")\n",
        "print(df_pg['Total'].min())\n",
        "print(\"Total Mean\")\n",
        "print(df_pg['Total'].mean())\n",
        "print(\"Total Median\")\n",
        "print(df_pg['Total'].median())\n",
        "print(\"Total Max\")\n",
        "print(df_pg['Total'].max())\n",
        "print(\"Total Std\")\n",
        "print(df_pg['Total'].std())"
      ],
      "execution_count": 61,
      "outputs": [
        {
          "output_type": "stream",
          "text": [
            "Total Min\n",
            "30120\n",
            "Total Mean\n",
            "38654.51515151515\n",
            "Total Median\n",
            "38763.0\n",
            "Total Max\n",
            "49532\n",
            "Total Std\n",
            "4129.0047808987465\n"
          ],
          "name": "stdout"
        }
      ]
    },
    {
      "cell_type": "code",
      "metadata": {
        "id": "ImJ2pqXZ1uSW",
        "colab_type": "code",
        "outputId": "8277b603-4caf-4fd1-fee3-2a7cab83c4bd",
        "colab": {
          "base_uri": "https://localhost:8080/",
          "height": 458
        }
      },
      "source": [
        "plt.figure(figsize = (8, 5))\n",
        "sns.jointplot(df_pg.Mean_Air_Temp, df_pg.Total, \n",
        "              alpha = 0.5)\n",
        "plt.xlabel('Mean_Air_Temp (degree_C)')\n",
        "plt.ylabel('Total (GWh)')\n",
        "plt.show()"
      ],
      "execution_count": 62,
      "outputs": [
        {
          "output_type": "display_data",
          "data": {
            "text/plain": [
              "<Figure size 576x360 with 0 Axes>"
            ]
          },
          "metadata": {
            "tags": []
          }
        },
        {
          "output_type": "display_data",
          "data": {
            "image/png": "[encoded data removed]",
            "text/plain": [
              "<Figure size 432x432 with 3 Axes>"
            ]
          },
          "metadata": {
            "tags": []
          }
        }
      ]
    },
    {
      "cell_type": "markdown",
      "metadata": {
        "id": "MuuxLRPU2Qhe",
        "colab_type": "text"
      },
      "source": [
        "# Correlation Matrix"
      ]
    },
    {
      "cell_type": "code",
      "metadata": {
        "id": "oYS9DVre2UWN",
        "colab_type": "code",
        "outputId": "002a3670-f760-4014-8e3b-159aad1a690e",
        "colab": {
          "base_uri": "https://localhost:8080/",
          "height": 585
        }
      },
      "source": [
        "corr = df_pg[['Total', 'Income_per_capital', 'Installed_capacity', 'Mean_Air_Temp', 'Max_Air_Temp', 'Min_Air_Temp']]\n",
        "\n",
        "plt.figure(figsize=(10,8))\n",
        "plt.title('Correlation of variables')\n",
        "sns.heatmap(corr.astype(float).corr(),vmax=1.0,  annot=True)\n",
        "plt.show()"
      ],
      "execution_count": 63,
      "outputs": [
        {
          "output_type": "display_data",
          "data": {
            "image/png": "[encoded data removed]",
            "text/plain": [
              "<Figure size 720x576 with 2 Axes>"
            ]
          },
          "metadata": {
            "tags": []
          }
        }
      ]
    },
    {
      "cell_type": "code",
      "metadata": {
        "id": "EbLdq2cu4un-",
        "colab_type": "code",
        "colab": {}
      },
      "source": [
        "from sklearn.model_selection import train_test_split, KFold, cross_val_score # to split the data\n",
        "from sklearn.metrics import explained_variance_score, median_absolute_error, r2_score, mean_squared_error, accuracy_score, confusion_matrix, classification_report, fbeta_score #To evaluate our model"
      ],
      "execution_count": 0,
      "outputs": []
    },
    {
      "cell_type": "code",
      "metadata": {
        "id": "dSA1_tWd20UV",
        "colab_type": "code",
        "colab": {}
      },
      "source": [
        "########################################################\n",
        "######## IMPORTING NECESSARY MODULES AND MODELS ########\n",
        "########################################################\n",
        "\n",
        "from sklearn.linear_model import SGDRegressor\n",
        "from sklearn.model_selection import KFold, cross_val_score, train_test_split, TimeSeriesSplit # Model evaluation\n",
        "from sklearn.preprocessing import LabelEncoder, OneHotEncoder, StandardScaler # Preprocessing\n",
        "from sklearn.linear_model import Lasso, Ridge, ElasticNet, RANSACRegressor, SGDRegressor, HuberRegressor, BayesianRidge # Linear models\n",
        "from sklearn.ensemble import RandomForestRegressor, BaggingRegressor, AdaBoostRegressor, GradientBoostingRegressor, ExtraTreesRegressor  # Ensemble methods\n",
        "from xgboost import XGBRegressor, plot_importance # XGBoost\n",
        "from sklearn.svm import SVR, SVC, LinearSVC  # Support Vector Regression\n",
        "from sklearn.tree import DecisionTreeRegressor # Decision Tree Regression\n",
        "from sklearn.neighbors import KNeighborsRegressor\n",
        "from sklearn.pipeline import Pipeline # Streaming pipelines\n",
        "from sklearn.decomposition import KernelPCA, PCA # Dimensionality reduction\n",
        "from sklearn.feature_selection import SelectFromModel # Dimensionality reduction\n",
        "from sklearn.model_selection import learning_curve, validation_curve, GridSearchCV # Model evaluation\n",
        "from sklearn.base import clone # Clone estimator\n",
        "from sklearn.metrics import mean_squared_error as MSE"
      ],
      "execution_count": 0,
      "outputs": []
    },
    {
      "cell_type": "code",
      "metadata": {
        "id": "2C-U0ViC4hVb",
        "colab_type": "code",
        "outputId": "92de802f-0938-417f-b7bd-0d3cce989c5c",
        "colab": {
          "base_uri": "https://localhost:8080/",
          "height": 34
        }
      },
      "source": [
        "num_samples = df_pg.shape[0]\n",
        "window_size = 12 \n",
        "num_splits = num_samples - window_size\n",
        "\n",
        "print (num_samples, num_splits)\n",
        "tss = TimeSeriesSplit(n_splits=num_splits, max_train_size=1)\n"
      ],
      "execution_count": 66,
      "outputs": [
        {
          "output_type": "stream",
          "text": [
            "132 120\n"
          ],
          "name": "stdout"
        }
      ]
    },
    {
      "cell_type": "code",
      "metadata": {
        "id": "E3vpDS-j3JCl",
        "colab_type": "code",
        "outputId": "0d571a50-24ee-48c6-a41b-616b9ff5b959",
        "colab": {
          "base_uri": "https://localhost:8080/",
          "height": 1000
        }
      },
      "source": [
        "X = df_pg.drop(\"Income_per_capital\" ,axis=1).values\n",
        "y = df_pg[\"Total\"].values\n",
        "\n",
        "X_train = []\n",
        "X_test = []\n",
        "y_train = []\n",
        "y_test = []\n",
        "\n",
        "for train_index, test_index in tss.split(X):\n",
        "  print(\"TRAIN:\", train_index, \"TEST:\", test_index)\n",
        "  X_train_loopback = []\n",
        "  X_test_loopback = []\n",
        "  for i in range(1, window_size):\n",
        "    X_train_loopback.append(X[train_index - i].reshape(-1))\n",
        "    X_test_loopback.append(X[test_index - i].reshape(-1))\n",
        "    \n",
        "  \n",
        "  X_train.append(np.concatenate(X_train_loopback).ravel())\n",
        "  y_train.append(y[train_index].reshape(-1))\n",
        "  X_test.append(np.concatenate(X_test_loopback).ravel())\n",
        "  y_test.append(y[test_index].reshape(-1))"
      ],
      "execution_count": 81,
      "outputs": [
        {
          "output_type": "stream",
          "text": [
            "TRAIN: [11] TEST: [12]\n",
            "TRAIN: [12] TEST: [13]\n",
            "TRAIN: [13] TEST: [14]\n",
            "TRAIN: [14] TEST: [15]\n",
            "TRAIN: [15] TEST: [16]\n",
            "TRAIN: [16] TEST: [17]\n",
            "TRAIN: [17] TEST: [18]\n",
            "TRAIN: [18] TEST: [19]\n",
            "TRAIN: [19] TEST: [20]\n",
            "TRAIN: [20] TEST: [21]\n",
            "TRAIN: [21] TEST: [22]\n",
            "TRAIN: [22] TEST: [23]\n",
            "TRAIN: [23] TEST: [24]\n",
            "TRAIN: [24] TEST: [25]\n",
            "TRAIN: [25] TEST: [26]\n",
            "TRAIN: [26] TEST: [27]\n",
            "TRAIN: [27] TEST: [28]\n",
            "TRAIN: [28] TEST: [29]\n",
            "TRAIN: [29] TEST: [30]\n",
            "TRAIN: [30] TEST: [31]\n",
            "TRAIN: [31] TEST: [32]\n",
            "TRAIN: [32] TEST: [33]\n",
            "TRAIN: [33] TEST: [34]\n",
            "TRAIN: [34] TEST: [35]\n",
            "TRAIN: [35] TEST: [36]\n",
            "TRAIN: [36] TEST: [37]\n",
            "TRAIN: [37] TEST: [38]\n",
            "TRAIN: [38] TEST: [39]\n",
            "TRAIN: [39] TEST: [40]\n",
            "TRAIN: [40] TEST: [41]\n",
            "TRAIN: [41] TEST: [42]\n",
            "TRAIN: [42] TEST: [43]\n",
            "TRAIN: [43] TEST: [44]\n",
            "TRAIN: [44] TEST: [45]\n",
            "TRAIN: [45] TEST: [46]\n",
            "TRAIN: [46] TEST: [47]\n",
            "TRAIN: [47] TEST: [48]\n",
            "TRAIN: [48] TEST: [49]\n",
            "TRAIN: [49] TEST: [50]\n",
            "TRAIN: [50] TEST: [51]\n",
            "TRAIN: [51] TEST: [52]\n",
            "TRAIN: [52] TEST: [53]\n",
            "TRAIN: [53] TEST: [54]\n",
            "TRAIN: [54] TEST: [55]\n",
            "TRAIN: [55] TEST: [56]\n",
            "TRAIN: [56] TEST: [57]\n",
            "TRAIN: [57] TEST: [58]\n",
            "TRAIN: [58] TEST: [59]\n",
            "TRAIN: [59] TEST: [60]\n",
            "TRAIN: [60] TEST: [61]\n",
            "TRAIN: [61] TEST: [62]\n",
            "TRAIN: [62] TEST: [63]\n",
            "TRAIN: [63] TEST: [64]\n",
            "TRAIN: [64] TEST: [65]\n",
            "TRAIN: [65] TEST: [66]\n",
            "TRAIN: [66] TEST: [67]\n",
            "TRAIN: [67] TEST: [68]\n",
            "TRAIN: [68] TEST: [69]\n",
            "TRAIN: [69] TEST: [70]\n",
            "TRAIN: [70] TEST: [71]\n",
            "TRAIN: [71] TEST: [72]\n",
            "TRAIN: [72] TEST: [73]\n",
            "TRAIN: [73] TEST: [74]\n",
            "TRAIN: [74] TEST: [75]\n",
            "TRAIN: [75] TEST: [76]\n",
            "TRAIN: [76] TEST: [77]\n",
            "TRAIN: [77] TEST: [78]\n",
            "TRAIN: [78] TEST: [79]\n",
            "TRAIN: [79] TEST: [80]\n",
            "TRAIN: [80] TEST: [81]\n",
            "TRAIN: [81] TEST: [82]\n",
            "TRAIN: [82] TEST: [83]\n",
            "TRAIN: [83] TEST: [84]\n",
            "TRAIN: [84] TEST: [85]\n",
            "TRAIN: [85] TEST: [86]\n",
            "TRAIN: [86] TEST: [87]\n",
            "TRAIN: [87] TEST: [88]\n",
            "TRAIN: [88] TEST: [89]\n",
            "TRAIN: [89] TEST: [90]\n",
            "TRAIN: [90] TEST: [91]\n",
            "TRAIN: [91] TEST: [92]\n",
            "TRAIN: [92] TEST: [93]\n",
            "TRAIN: [93] TEST: [94]\n",
            "TRAIN: [94] TEST: [95]\n",
            "TRAIN: [95] TEST: [96]\n",
            "TRAIN: [96] TEST: [97]\n",
            "TRAIN: [97] TEST: [98]\n",
            "TRAIN: [98] TEST: [99]\n",
            "TRAIN: [99] TEST: [100]\n",
            "TRAIN: [100] TEST: [101]\n",
            "TRAIN: [101] TEST: [102]\n",
            "TRAIN: [102] TEST: [103]\n",
            "TRAIN: [103] TEST: [104]\n",
            "TRAIN: [104] TEST: [105]\n",
            "TRAIN: [105] TEST: [106]\n",
            "TRAIN: [106] TEST: [107]\n",
            "TRAIN: [107] TEST: [108]\n",
            "TRAIN: [108] TEST: [109]\n",
            "TRAIN: [109] TEST: [110]\n",
            "TRAIN: [110] TEST: [111]\n",
            "TRAIN: [111] TEST: [112]\n",
            "TRAIN: [112] TEST: [113]\n",
            "TRAIN: [113] TEST: [114]\n",
            "TRAIN: [114] TEST: [115]\n",
            "TRAIN: [115] TEST: [116]\n",
            "TRAIN: [116] TEST: [117]\n",
            "TRAIN: [117] TEST: [118]\n",
            "TRAIN: [118] TEST: [119]\n",
            "TRAIN: [119] TEST: [120]\n",
            "TRAIN: [120] TEST: [121]\n",
            "TRAIN: [121] TEST: [122]\n",
            "TRAIN: [122] TEST: [123]\n",
            "TRAIN: [123] TEST: [124]\n",
            "TRAIN: [124] TEST: [125]\n",
            "TRAIN: [125] TEST: [126]\n",
            "TRAIN: [126] TEST: [127]\n",
            "TRAIN: [127] TEST: [128]\n",
            "TRAIN: [128] TEST: [129]\n",
            "TRAIN: [129] TEST: [130]\n",
            "TRAIN: [130] TEST: [131]\n"
          ],
          "name": "stdout"
        }
      ]
    },
    {
      "cell_type": "code",
      "metadata": {
        "id": "mL55IPPK-A3b",
        "colab_type": "code",
        "outputId": "bc090b8a-60b0-4dbf-d373-385cac368210",
        "colab": {
          "base_uri": "https://localhost:8080/",
          "height": 187
        }
      },
      "source": [
        "print (X_train[13], y_train[13])"
      ],
      "execution_count": 82,
      "outputs": [
        {
          "output_type": "stream",
          "text": [
            "[ 3.6635e+04  7.3470e+04 -1.0000e+00  1.0100e+01 -1.2900e+01  3.3531e+04\n",
            "  7.3470e+04  6.9000e+00  2.1800e+01 -4.3000e+00  3.1044e+04  7.3470e+04\n",
            "  1.6000e+01  2.6400e+01  6.2000e+00  3.3525e+04  7.3470e+04  2.1800e+01\n",
            "  2.9900e+01  1.4400e+01  3.3044e+04  7.3470e+04  2.5700e+01  3.4400e+01\n",
            "  1.6400e+01  3.2431e+04  7.3470e+04  2.4300e+01  3.2400e+01  1.8700e+01\n",
            "  3.1079e+04  7.3470e+04  2.2400e+01  3.2400e+01  1.4300e+01  3.0436e+04\n",
            "  7.3470e+04  1.9100e+01  3.1000e+01  9.8000e+00  3.2478e+04  7.3470e+04\n",
            "  1.2700e+01  2.5800e+01  2.2000e+00  3.2615e+04  7.3470e+04  6.0000e+00\n",
            "  2.2200e+01 -3.3000e+00  3.3306e+04  7.3470e+04  2.9000e+00  1.6100e+01\n",
            " -8.6000e+00] [39713]\n"
          ],
          "name": "stdout"
        }
      ]
    },
    {
      "cell_type": "code",
      "metadata": {
        "id": "JZbsIyF43e_2",
        "colab_type": "code",
        "outputId": "dca277c5-4db1-4ae7-fef1-84fb08d33987",
        "colab": {
          "base_uri": "https://localhost:8080/",
          "height": 34
        }
      },
      "source": [
        "thresh = 5 * 10**(-3)\n",
        "model = XGBRegressor()\n",
        "model.fit(X_train, y_train)\n",
        "#select features using threshold\n",
        "selection = SelectFromModel(model, threshold=thresh, prefit=True)\n",
        "select_X_train = selection.transform(X_train)\n",
        "# eval model\n",
        "select_X_val = selection.transform(X_test)\n",
        "# test \n",
        "select_X_test = selection.transform(X_test)"
      ],
      "execution_count": 83,
      "outputs": [
        {
          "output_type": "stream",
          "text": [
            "[08:13:27] WARNING: /workspace/src/objective/regression_obj.cu:152: reg:linear is now deprecated in favor of reg:squarederror.\n"
          ],
          "name": "stdout"
        }
      ]
    },
    {
      "cell_type": "code",
      "metadata": {
        "id": "L5HDbuG23gkG",
        "colab_type": "code",
        "colab": {}
      },
      "source": [
        "pipelines = []\n",
        "seed = 2\n",
        "\n",
        "pipelines.append(\n",
        "                (\"Scaled_Ridge\", \n",
        "                 Pipeline([\n",
        "                     (\"Scaler\", StandardScaler()), \n",
        "                     (\"Ridge\", Ridge(random_state=seed, tol=10 ))\n",
        "                      ]))\n",
        "                )\n",
        "pipelines.append(\n",
        "                (\"Scaled_Lasso\", \n",
        "                 Pipeline([\n",
        "                     (\"Scaler\", StandardScaler()), \n",
        "                     (\"Lasso\", Lasso(random_state=seed, tol=1))\n",
        "                      ]))\n",
        "                )\n",
        "pipelines.append(\n",
        "                (\"Scaled_Elastic\", \n",
        "                 Pipeline([\n",
        "                     (\"Scaler\", StandardScaler()), \n",
        "                     (\"Lasso\", ElasticNet(random_state=seed))\n",
        "                      ]))\n",
        "                )\n",
        "\n",
        "pipelines.append(\n",
        "                (\"Scaled_SVR\",\n",
        "                 Pipeline([\n",
        "                     (\"Scaler\", StandardScaler()),\n",
        "                     (\"SVR\",  SVR(kernel='linear', C=1e2, degree=5))\n",
        "                 ])\n",
        "                )\n",
        "                )\n",
        "\n",
        "pipelines.append(\n",
        "                (\"Scaled_RF_reg\",\n",
        "                 Pipeline([\n",
        "                     (\"Scaler\", StandardScaler()),\n",
        "                     (\"RF\", RandomForestRegressor(random_state=seed))\n",
        "                 ])\n",
        "                )\n",
        "                )\n",
        "\n",
        "pipelines.append(\n",
        "                (\"Scaled_ET_reg\",\n",
        "                 Pipeline([\n",
        "                     (\"Scaler\", StandardScaler()),\n",
        "                     (\"ET\", ExtraTreesRegressor(random_state=seed))\n",
        "                 ])\n",
        "                )\n",
        "                )\n",
        "pipelines.append(\n",
        "                (\"Scaled_BR_reg\",\n",
        "                 Pipeline([\n",
        "                     (\"Scaler\", StandardScaler()),\n",
        "                     (\"BR\", BaggingRegressor(random_state=seed))\n",
        "                 ]))) \n",
        "\n",
        "pipelines.append(\n",
        "                (\"Scaled_Hub-Reg\",\n",
        "                 Pipeline([\n",
        "                     (\"Scaler\", StandardScaler()),\n",
        "                     (\"Hub-Reg\", HuberRegressor())\n",
        "                 ]))) \n",
        "pipelines.append(\n",
        "                (\"Scaled_BayRidge\",\n",
        "                 Pipeline([\n",
        "                     (\"Scaler\", StandardScaler()),\n",
        "                     (\"BR\", BayesianRidge())\n",
        "                 ]))) \n",
        "\n",
        "pipelines.append(\n",
        "                (\"Scaled_XGB_reg\",\n",
        "                 Pipeline([\n",
        "                     (\"Scaler\", StandardScaler()),\n",
        "                     (\"XGBR\", XGBRegressor(seed=seed))\n",
        "                 ]))) \n",
        "\n",
        "pipelines.append(\n",
        "                (\"Scaled_DT_reg\",\n",
        "                 Pipeline([\n",
        "                     (\"Scaler\", StandardScaler()),\n",
        "                     (\"DT_reg\", DecisionTreeRegressor())\n",
        "                 ]))) \n",
        "\n",
        "pipelines.append(\n",
        "                (\"Scaled_KNN_reg\",\n",
        "                 Pipeline([\n",
        "                     (\"Scaler\", StandardScaler()),\n",
        "                     (\"KNN_reg\", KNeighborsRegressor())\n",
        "                 ])))\n",
        "\n",
        "pipelines.append(\n",
        "                (\"Scaled_Gboost-Reg\",\n",
        "                 Pipeline([\n",
        "                     (\"Scaler\", StandardScaler()),\n",
        "                     (\"GBoost-Reg\", GradientBoostingRegressor())\n",
        "                 ])))\n",
        "\n",
        "pipelines.append(\n",
        "                (\"Scaled_RFR_PCA\",\n",
        "                 Pipeline([\n",
        "                     (\"Scaler\", StandardScaler()),\n",
        "                     (\"PCA\", PCA(n_components=3)),\n",
        "                     (\"XGB\", RandomForestRegressor())\n",
        "                 ])))\n",
        "\n",
        "pipelines.append(\n",
        "                (\"Scaled_XGBR_PCA\",\n",
        "                 Pipeline([\n",
        "                     (\"Scaler\", StandardScaler()),\n",
        "                     (\"PCA\", PCA(n_components=3)),\n",
        "                     (\"XGB\", XGBRegressor())\n",
        "                 ])))"
      ],
      "execution_count": 0,
      "outputs": []
    },
    {
      "cell_type": "code",
      "metadata": {
        "id": "RUDo9v6H3oSW",
        "colab_type": "code",
        "outputId": "8eb9f2a8-770a-4236-841e-7a504ad1afbc",
        "colab": {
          "base_uri": "https://localhost:8080/",
          "height": 272
        }
      },
      "source": [
        "#'neg_mean_absolute_error', 'neg_mean_squared_error','r2'\n",
        "scoring = 'r2'\n",
        "n_folds = 7\n",
        "\n",
        "results, names  = [], [] \n",
        "\n",
        "for name, model  in pipelines:\n",
        "    kfold = KFold(n_splits=n_folds, random_state=seed)\n",
        "    cv_results = cross_val_score(model, X_train, y_train, cv= kfold,\n",
        "                                 scoring=scoring, n_jobs=-1)    \n",
        "    names.append(name)\n",
        "    results.append(cv_results)    \n",
        "    msg = \"%s: %f (+/- %f)\" % (name, cv_results.mean(),  cv_results.std())\n",
        "    print(msg)"
      ],
      "execution_count": 71,
      "outputs": [
        {
          "output_type": "stream",
          "text": [
            "Scaled_Ridge: 0.261608 (+/- 0.798334)\n",
            "Scaled_Lasso: 0.296553 (+/- 0.220039)\n",
            "Scaled_Elastic: 0.183489 (+/- 0.681531)\n",
            "Scaled_SVR: 0.206223 (+/- 0.889295)\n",
            "Scaled_RF_reg: -0.017479 (+/- 1.342796)\n",
            "Scaled_ET_reg: -0.010224 (+/- 1.416341)\n",
            "Scaled_BR_reg: -0.117420 (+/- 1.420065)\n",
            "Scaled_Hub-Reg: 0.052438 (+/- 1.169733)\n",
            "Scaled_BayRidge: 0.294117 (+/- 0.799645)\n",
            "Scaled_XGB_reg: 0.143648 (+/- 1.153980)\n",
            "Scaled_DT_reg: -0.189601 (+/- 1.056385)\n",
            "Scaled_KNN_reg: 0.088669 (+/- 1.276569)\n",
            "Scaled_Gboost-Reg: 0.142692 (+/- 1.072129)\n",
            "Scaled_RFR_PCA: 0.046889 (+/- 1.035817)\n",
            "Scaled_XGBR_PCA: 0.346362 (+/- 0.584404)\n"
          ],
          "name": "stdout"
        }
      ]
    },
    {
      "cell_type": "code",
      "metadata": {
        "id": "n9nyakO73sZm",
        "colab_type": "code",
        "outputId": "30ca7cbd-3fc7-40b7-95f5-b7cc8fa64c33",
        "colab": {
          "base_uri": "https://localhost:8080/",
          "height": 1000
        }
      },
      "source": [
        "# boxplot algorithm comparison\n",
        "fig = plt.figure(figsize=(15,15))\n",
        "fig.suptitle('Algorithm Comparison', fontsize=22)\n",
        "ax = fig.add_subplot(111)\n",
        "sns.boxplot(x=names, y=results)\n",
        "ax.set_xticklabels(names)\n",
        "ax.set_xlabel(\"Names of Algorithm\", fontsize=20)\n",
        "ax.set_ylabel(\"R Squared Score of Models\", fontsize=18)\n",
        "ax.set_xticklabels(ax.get_xticklabels(),rotation=45)\n",
        "plt.show()"
      ],
      "execution_count": 85,
      "outputs": [
        {
          "output_type": "display_data",
          "data": {
            "image/png": "[encoded data removed]",
            "text/plain": [
              "<Figure size 1080x1080 with 1 Axes>"
            ]
          },
          "metadata": {
            "tags": []
          }
        }
      ]
    },
    {
      "cell_type": "markdown",
      "metadata": {
        "id": "cKU4fYiw3y3I",
        "colab_type": "text"
      },
      "source": [
        "# Testing the best models"
      ]
    },
    {
      "cell_type": "code",
      "metadata": {
        "id": "za46DvNc30ct",
        "colab_type": "code",
        "colab": {}
      },
      "source": [
        "xgb = XGBRegressor(n_estimators=100, learning_rate=0.08, gamma=0, subsample=0.75, colsample_bytree=1, max_depth=7)"
      ],
      "execution_count": 0,
      "outputs": []
    },
    {
      "cell_type": "code",
      "metadata": {
        "id": "3qkYz0cm32IV",
        "colab_type": "code",
        "outputId": "ccfbd677-6a74-417f-fa90-97f4863c15df",
        "colab": {
          "base_uri": "https://localhost:8080/",
          "height": 153
        }
      },
      "source": [
        "xgb.fit(X_train, y_train)"
      ],
      "execution_count": 87,
      "outputs": [
        {
          "output_type": "stream",
          "text": [
            "[08:13:45] WARNING: /workspace/src/objective/regression_obj.cu:152: reg:linear is now deprecated in favor of reg:squarederror.\n"
          ],
          "name": "stdout"
        },
        {
          "output_type": "execute_result",
          "data": {
            "text/plain": [
              "XGBRegressor(base_score=0.5, booster='gbtree', colsample_bylevel=1,\n",
              "             colsample_bynode=1, colsample_bytree=1, gamma=0,\n",
              "             importance_type='gain', learning_rate=0.08, max_delta_step=0,\n",
              "             max_depth=7, min_child_weight=1, missing=None, n_estimators=100,\n",
              "             n_jobs=1, nthread=None, objective='reg:linear', random_state=0,\n",
              "             reg_alpha=0, reg_lambda=1, scale_pos_weight=1, seed=None,\n",
              "             silent=None, subsample=0.75, verbosity=1)"
            ]
          },
          "metadata": {
            "tags": []
          },
          "execution_count": 87
        }
      ]
    },
    {
      "cell_type": "code",
      "metadata": {
        "id": "jPralY3D33L9",
        "colab_type": "code",
        "outputId": "37da4008-444e-4579-c816-558b1e15fda3",
        "colab": {
          "base_uri": "https://localhost:8080/",
          "height": 34
        }
      },
      "source": [
        "y_hat = xgb.predict(X_test)\n",
        "xgb.score(X_test,y_test)"
      ],
      "execution_count": 75,
      "outputs": [
        {
          "output_type": "execute_result",
          "data": {
            "text/plain": [
              "0.9984490654265291"
            ]
          },
          "metadata": {
            "tags": []
          },
          "execution_count": 75
        }
      ]
    },
    {
      "cell_type": "markdown",
      "metadata": {
        "id": "j1H0zxOv4Nw2",
        "colab_type": "text"
      },
      "source": [
        "## Randomized Search in RandomForest Regressor\n"
      ]
    },
    {
      "cell_type": "code",
      "metadata": {
        "id": "czI6Rrbv35We",
        "colab_type": "code",
        "colab": {}
      },
      "source": [
        "from sklearn.model_selection import RandomizedSearchCV\n",
        "# Number of trees in random forest\n",
        "n_estimators = [int(x) for x in np.linspace(start = 10, stop = 200, num = 10)]\n",
        "# Number of features to consider at every split\n",
        "max_features = ['auto', 'sqrt']\n",
        "# Maximum number of levels in tree\n",
        "max_depth = [int(x) for x in np.linspace(10, 110, num = 11)]\n",
        "max_depth.append(None)\n",
        "# Minimum number of samples required to split a node\n",
        "min_samples_split = [2, 5, 10]\n",
        "# Minimum number of samples required at each leaf node\n",
        "min_samples_leaf = [1, 2, 4]\n",
        "# Method of selecting samples for training each tree\n",
        "bootstrap = [True, False]\n",
        "# Create the random grid\n",
        "random_grid = {'n_estimators': n_estimators,\n",
        "               'max_features': max_features,\n",
        "               'max_depth': max_depth,\n",
        "               'min_samples_split': min_samples_split,\n",
        "               'min_samples_leaf': min_samples_leaf,\n",
        "               'bootstrap': bootstrap}"
      ],
      "execution_count": 0,
      "outputs": []
    },
    {
      "cell_type": "markdown",
      "metadata": {
        "id": "jUqBOEzK4Urv",
        "colab_type": "text"
      },
      "source": [
        "## Using Random Search to find the best Hyper Paramns"
      ]
    },
    {
      "cell_type": "code",
      "metadata": {
        "id": "_3HvkEvN4SKd",
        "colab_type": "code",
        "outputId": "66584c26-5771-42da-bade-a9f936db2cfb",
        "colab": {
          "base_uri": "https://localhost:8080/",
          "height": 615
        }
      },
      "source": [
        "# Use the random grid to search for best hyperparameters\n",
        "# First create the base model to tune\n",
        "rf = RandomForestRegressor()\n",
        "# Random search of parameters, using 3 fold cross validation, \n",
        "# search across 100 different combinations, and use all available cores\n",
        "rf_random = RandomizedSearchCV(estimator = rf, param_distributions = random_grid, n_iter = 100, cv = 3, verbose=2, random_state=42, n_jobs = -1)\n",
        "# Fit the random search model\n",
        "rf_random.fit(X_train, y_train)"
      ],
      "execution_count": 77,
      "outputs": [
        {
          "output_type": "stream",
          "text": [
            "Fitting 3 folds for each of 100 candidates, totalling 300 fits\n"
          ],
          "name": "stdout"
        },
        {
          "output_type": "stream",
          "text": [
            "[Parallel(n_jobs=-1)]: Using backend LokyBackend with 2 concurrent workers.\n",
            "[Parallel(n_jobs=-1)]: Done 130 tasks      | elapsed:   12.0s\n",
            "[Parallel(n_jobs=-1)]: Done 297 out of 300 | elapsed:   28.2s remaining:    0.3s\n",
            "[Parallel(n_jobs=-1)]: Done 300 out of 300 | elapsed:   28.2s finished\n",
            "/usr/local/lib/python3.6/dist-packages/sklearn/model_selection/_search.py:714: DataConversionWarning: A column-vector y was passed when a 1d array was expected. Please change the shape of y to (n_samples,), for example using ravel().\n",
            "  self.best_estimator_.fit(X, y, **fit_params)\n"
          ],
          "name": "stderr"
        },
        {
          "output_type": "execute_result",
          "data": {
            "text/plain": [
              "RandomizedSearchCV(cv=3, error_score='raise-deprecating',\n",
              "                   estimator=RandomForestRegressor(bootstrap=True,\n",
              "                                                   criterion='mse',\n",
              "                                                   max_depth=None,\n",
              "                                                   max_features='auto',\n",
              "                                                   max_leaf_nodes=None,\n",
              "                                                   min_impurity_decrease=0.0,\n",
              "                                                   min_impurity_split=None,\n",
              "                                                   min_samples_leaf=1,\n",
              "                                                   min_samples_split=2,\n",
              "                                                   min_weight_fraction_leaf=0.0,\n",
              "                                                   n_estimators='warn',\n",
              "                                                   n_jobs=None, oob_score=False,\n",
              "                                                   random_sta...\n",
              "                   iid='warn', n_iter=100, n_jobs=-1,\n",
              "                   param_distributions={'bootstrap': [True, False],\n",
              "                                        'max_depth': [10, 20, 30, 40, 50, 60,\n",
              "                                                      70, 80, 90, 100, 110,\n",
              "                                                      None],\n",
              "                                        'max_features': ['auto', 'sqrt'],\n",
              "                                        'min_samples_leaf': [1, 2, 4],\n",
              "                                        'min_samples_split': [2, 5, 10],\n",
              "                                        'n_estimators': [10, 31, 52, 73, 94,\n",
              "                                                         115, 136, 157, 178,\n",
              "                                                         200]},\n",
              "                   pre_dispatch='2*n_jobs', random_state=42, refit=True,\n",
              "                   return_train_score=False, scoring=None, verbose=2)"
            ]
          },
          "metadata": {
            "tags": []
          },
          "execution_count": 77
        }
      ]
    },
    {
      "cell_type": "code",
      "metadata": {
        "id": "ooJHP_6q4asl",
        "colab_type": "code",
        "outputId": "66d2161b-f362-451d-eba9-ee40be48c3a4",
        "colab": {
          "base_uri": "https://localhost:8080/",
          "height": 119
        }
      },
      "source": [
        "#Knowning the best params\n",
        "rf_random.best_params_"
      ],
      "execution_count": 78,
      "outputs": [
        {
          "output_type": "execute_result",
          "data": {
            "text/plain": [
              "{'bootstrap': True,\n",
              " 'max_depth': 110,\n",
              " 'max_features': 'sqrt',\n",
              " 'min_samples_leaf': 1,\n",
              " 'min_samples_split': 2,\n",
              " 'n_estimators': 94}"
            ]
          },
          "metadata": {
            "tags": []
          },
          "execution_count": 78
        }
      ]
    },
    {
      "cell_type": "code",
      "metadata": {
        "id": "b7zQKMOk4iJu",
        "colab_type": "code",
        "colab": {}
      },
      "source": [
        "# Predicting with best params\n",
        "y_hat_Search = rf_random.predict(X_test)"
      ],
      "execution_count": 0,
      "outputs": []
    },
    {
      "cell_type": "code",
      "metadata": {
        "id": "D9ziSX854jwF",
        "colab_type": "code",
        "outputId": "db6af4a2-1308-4c67-e454-daf721f86705",
        "colab": {
          "base_uri": "https://localhost:8080/",
          "height": 102
        }
      },
      "source": [
        "print(\"XGBoost Regressor R2-score: {}\".format(round(r2_score(y_hat, y_test),4)))\n",
        "print(\"RandomForest Regressor Prediction R2-score: {}\".format(round(r2_score(y_hat_Search, y_test),4)))\n",
        "print(\"\\nMSE of XGBoost Regressor: {}\".format(median_absolute_error(y_hat, y_test)))\n",
        "print(\"MSE of RandomForest Regressor: {} \".format(median_absolute_error(y_hat_Search, y_test)))"
      ],
      "execution_count": 80,
      "outputs": [
        {
          "output_type": "stream",
          "text": [
            "XGBoost Regressor R2-score: 0.9984\n",
            "RandomForest Regressor Prediction R2-score: 0.9786\n",
            "\n",
            "MSE of XGBoost Regressor: 47.921875\n",
            "MSE of RandomForest Regressor: 237.7021276595733 \n"
          ],
          "name": "stdout"
        }
      ]
    },
    {
      "cell_type": "markdown",
      "metadata": {
        "id": "wx4m2tx39ylo",
        "colab_type": "text"
      },
      "source": [
        "### [END_OF_FILE]"
      ]
    },
    {
      "cell_type": "code",
      "metadata": {
        "id": "s5JykrPh2jc1",
        "colab_type": "code",
        "colab": {}
      },
      "source": [
        ""
      ],
      "execution_count": 0,
      "outputs": []
    },
    {
      "cell_type": "markdown",
      "metadata": {
        "id": "lz4_ucKM-uik",
        "colab_type": "text"
      },
      "source": [
        ""
      ]
    }
  ]
}