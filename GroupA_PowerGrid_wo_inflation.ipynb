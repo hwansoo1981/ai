{
  "nbformat": 4,
  "nbformat_minor": 0,
  "metadata": {
    "colab": {
      "name": "Project01-PowerGrid",
      "version": "0.3.2",
      "provenance": [],
      "collapsed_sections": [],
      "include_colab_link": true
    },
    "kernelspec": {
      "name": "python3",
      "display_name": "Python 3"
    }
  },
  "cells": [
    {
      "cell_type": "markdown",
      "metadata": {
        "id": "view-in-github",
        "colab_type": "text"
      },
      "source": [
        "<a href=\"https://colab.research.google.com/github/hwansoo1981/ai/blob/master/GroupA_PowerGrid_wo_inflation.ipynb\" target=\"_parent\"><img src=\"https://colab.research.google.com/assets/colab-badge.svg\" alt=\"Open In Colab\"/></a>"
      ]
    },
    {
      "cell_type": "code",
      "metadata": {
        "id": "YZYs7fe1wW7C",
        "colab_type": "code",
        "colab": {}
      },
      "source": [
        "import pandas as pd    # pandas for data sheet\n",
        "import numpy as np    # numpy for numerical computation\n",
        "import matplotlib.pyplot as plt    # draw for plot\n",
        "import seaborn as sns                  # draw for plot\n",
        "from matplotlib import rcParams # draw for plot\n",
        "import scipy.stats as st     # scipy for scientific computation\n",
        "import itertools                 # itertools for iteration preprocessing"
      ],
      "execution_count": 0,
      "outputs": []
    },
    {
      "cell_type": "code",
      "metadata": {
        "id": "WlL-h8iDy0BQ",
        "colab_type": "code",
        "colab": {}
      },
      "source": [
        "dateparse = lambda dates: pd.datetime.strptime(dates, '%Y.%m.%d')\n",
        "\n",
        "# For Google Drive\n",
        "#df_pg = pd.read_csv(\"https://drive.google.com/uc?export=download&id=1R8N2_7ggwzttLtyLqCrf2ng4HeQ7BlHs\", parse_dates=['date'], index_col='date',date_parser=dateparse)\n",
        "\n",
        "# For Github\n",
        "df_pg = pd.read_csv(\"https://raw.githubusercontent.com/hwansoo1981/dataset/master/groupA%2020190718%20V5.csv\", parse_dates=['Date'], index_col='Date',date_parser=dateparse)\n"
      ],
      "execution_count": 0,
      "outputs": []
    },
    {
      "cell_type": "code",
      "metadata": {
        "id": "DnBs0qzty4q2",
        "colab_type": "code",
        "outputId": "e41b7ef2-d754-4449-d07a-41b93ef9ea23",
        "colab": {
          "base_uri": "https://localhost:8080/",
          "height": 159
        }
      },
      "source": [
        "print(df_pg.shape)\n",
        "print(df_pg.nunique())"
      ],
      "execution_count": 24,
      "outputs": [
        {
          "output_type": "stream",
          "text": [
            "(132, 6)\n",
            "Total                 131\n",
            "Income_per_capital     11\n",
            "Installed_capacity     10\n",
            "Mean_Air_Temp         108\n",
            "Max_Air_Temp          104\n",
            "Min_Air_Temp          110\n",
            "dtype: int64\n"
          ],
          "name": "stdout"
        }
      ]
    },
    {
      "cell_type": "code",
      "metadata": {
        "id": "V-lqTtquy7Ee",
        "colab_type": "code",
        "outputId": "8f056671-af10-47fb-9f01-271790c7c139",
        "colab": {
          "base_uri": "https://localhost:8080/",
          "height": 230
        }
      },
      "source": [
        "print(df_pg.info())"
      ],
      "execution_count": 16,
      "outputs": [
        {
          "output_type": "stream",
          "text": [
            "<class 'pandas.core.frame.DataFrame'>\n",
            "DatetimeIndex: 132 entries, 2008-01-01 to 2018-12-01\n",
            "Data columns (total 6 columns):\n",
            "Total                 132 non-null int64\n",
            "Income_per_capital    132 non-null float64\n",
            "Installed_capacity    132 non-null int64\n",
            "Mean_Air_Temp         132 non-null float64\n",
            "Max_Air_Temp          132 non-null float64\n",
            "Min_Air_Temp          132 non-null float64\n",
            "dtypes: float64(4), int64(2)\n",
            "memory usage: 7.2 KB\n",
            "None\n"
          ],
          "name": "stdout"
        }
      ]
    },
    {
      "cell_type": "code",
      "metadata": {
        "id": "uiE_5uo-0r9q",
        "colab_type": "code",
        "outputId": "d31446a8-4597-4f0c-c1f6-79c623e251f6",
        "colab": {
          "base_uri": "https://localhost:8080/",
          "height": 223
        }
      },
      "source": [
        "df_pg.head()"
      ],
      "execution_count": 17,
      "outputs": [
        {
          "output_type": "execute_result",
          "data": {
            "text/html": [
              "<div>\n",
              "<style scoped>\n",
              "    .dataframe tbody tr th:only-of-type {\n",
              "        vertical-align: middle;\n",
              "    }\n",
              "\n",
              "    .dataframe tbody tr th {\n",
              "        vertical-align: top;\n",
              "    }\n",
              "\n",
              "    .dataframe thead th {\n",
              "        text-align: right;\n",
              "    }\n",
              "</style>\n",
              "<table border=\"1\" class=\"dataframe\">\n",
              "  <thead>\n",
              "    <tr style=\"text-align: right;\">\n",
              "      <th></th>\n",
              "      <th>Total</th>\n",
              "      <th>Income_per_capital</th>\n",
              "      <th>Installed_capacity</th>\n",
              "      <th>Mean_Air_Temp</th>\n",
              "      <th>Max_Air_Temp</th>\n",
              "      <th>Min_Air_Temp</th>\n",
              "    </tr>\n",
              "    <tr>\n",
              "      <th>Date</th>\n",
              "      <th></th>\n",
              "      <th></th>\n",
              "      <th></th>\n",
              "      <th></th>\n",
              "      <th></th>\n",
              "      <th></th>\n",
              "    </tr>\n",
              "  </thead>\n",
              "  <tbody>\n",
              "    <tr>\n",
              "      <th>2008-01-01</th>\n",
              "      <td>35129</td>\n",
              "      <td>16444.02075</td>\n",
              "      <td>72491</td>\n",
              "      <td>-1.7</td>\n",
              "      <td>7.3</td>\n",
              "      <td>-11.1</td>\n",
              "    </tr>\n",
              "    <tr>\n",
              "      <th>2008-02-01</th>\n",
              "      <td>34178</td>\n",
              "      <td>16444.02075</td>\n",
              "      <td>72491</td>\n",
              "      <td>-1.2</td>\n",
              "      <td>10.5</td>\n",
              "      <td>-10.1</td>\n",
              "    </tr>\n",
              "    <tr>\n",
              "      <th>2008-03-01</th>\n",
              "      <td>33294</td>\n",
              "      <td>16444.02075</td>\n",
              "      <td>72491</td>\n",
              "      <td>7.3</td>\n",
              "      <td>19.8</td>\n",
              "      <td>-1.7</td>\n",
              "    </tr>\n",
              "    <tr>\n",
              "      <th>2008-04-01</th>\n",
              "      <td>31705</td>\n",
              "      <td>16444.02075</td>\n",
              "      <td>72491</td>\n",
              "      <td>14.1</td>\n",
              "      <td>28.0</td>\n",
              "      <td>3.8</td>\n",
              "    </tr>\n",
              "    <tr>\n",
              "      <th>2008-05-01</th>\n",
              "      <td>30120</td>\n",
              "      <td>16444.02075</td>\n",
              "      <td>72491</td>\n",
              "      <td>17.7</td>\n",
              "      <td>28.5</td>\n",
              "      <td>8.1</td>\n",
              "    </tr>\n",
              "  </tbody>\n",
              "</table>\n",
              "</div>"
            ],
            "text/plain": [
              "            Total  Income_per_capital  ...  Max_Air_Temp  Min_Air_Temp\n",
              "Date                                   ...                            \n",
              "2008-01-01  35129         16444.02075  ...           7.3         -11.1\n",
              "2008-02-01  34178         16444.02075  ...          10.5         -10.1\n",
              "2008-03-01  33294         16444.02075  ...          19.8          -1.7\n",
              "2008-04-01  31705         16444.02075  ...          28.0           3.8\n",
              "2008-05-01  30120         16444.02075  ...          28.5           8.1\n",
              "\n",
              "[5 rows x 6 columns]"
            ]
          },
          "metadata": {
            "tags": []
          },
          "execution_count": 17
        }
      ]
    },
    {
      "cell_type": "code",
      "metadata": {
        "id": "5qd7yv80y4hP",
        "colab_type": "code",
        "outputId": "e83202ea-1a24-45e3-a8fb-e8fcfc2515a9",
        "colab": {
          "base_uri": "https://localhost:8080/",
          "height": 1000
        }
      },
      "source": [
        "plt.figure(figsize=(18,7))\n",
        "plt.plot(df_pg['Total'])\n",
        "plt.plot(df_pg['Income_per_capita'])\n",
        "plt.plot(df_pg['Installed_capacity'])\n",
        "plt.plot(df_pg['Mean_Air_Temp'])\n",
        "plt.plot(df_pg['Max_Air_Temp'])\n",
        "plt.plot(df_pg['Min_Air_Temp'])\n",
        "\n",
        "plt.legend()\n",
        "plt.title('Time series data for power consumption')"
      ],
      "execution_count": 18,
      "outputs": [
        {
          "output_type": "error",
          "ename": "KeyError",
          "evalue": "ignored",
          "traceback": [
            "\u001b[0;31m---------------------------------------------------------------------------\u001b[0m",
            "\u001b[0;31mKeyError\u001b[0m                                  Traceback (most recent call last)",
            "\u001b[0;32m/usr/local/lib/python3.6/dist-packages/pandas/core/indexes/base.py\u001b[0m in \u001b[0;36mget_loc\u001b[0;34m(self, key, method, tolerance)\u001b[0m\n\u001b[1;32m   2656\u001b[0m             \u001b[0;32mtry\u001b[0m\u001b[0;34m:\u001b[0m\u001b[0;34m\u001b[0m\u001b[0;34m\u001b[0m\u001b[0m\n\u001b[0;32m-> 2657\u001b[0;31m                 \u001b[0;32mreturn\u001b[0m \u001b[0mself\u001b[0m\u001b[0;34m.\u001b[0m\u001b[0m_engine\u001b[0m\u001b[0;34m.\u001b[0m\u001b[0mget_loc\u001b[0m\u001b[0;34m(\u001b[0m\u001b[0mkey\u001b[0m\u001b[0;34m)\u001b[0m\u001b[0;34m\u001b[0m\u001b[0;34m\u001b[0m\u001b[0m\n\u001b[0m\u001b[1;32m   2658\u001b[0m             \u001b[0;32mexcept\u001b[0m \u001b[0mKeyError\u001b[0m\u001b[0;34m:\u001b[0m\u001b[0;34m\u001b[0m\u001b[0;34m\u001b[0m\u001b[0m\n",
            "\u001b[0;32mpandas/_libs/index.pyx\u001b[0m in \u001b[0;36mpandas._libs.index.IndexEngine.get_loc\u001b[0;34m()\u001b[0m\n",
            "\u001b[0;32mpandas/_libs/index.pyx\u001b[0m in \u001b[0;36mpandas._libs.index.IndexEngine.get_loc\u001b[0;34m()\u001b[0m\n",
            "\u001b[0;32mpandas/_libs/hashtable_class_helper.pxi\u001b[0m in \u001b[0;36mpandas._libs.hashtable.PyObjectHashTable.get_item\u001b[0;34m()\u001b[0m\n",
            "\u001b[0;32mpandas/_libs/hashtable_class_helper.pxi\u001b[0m in \u001b[0;36mpandas._libs.hashtable.PyObjectHashTable.get_item\u001b[0;34m()\u001b[0m\n",
            "\u001b[0;31mKeyError\u001b[0m: 'Income_per_capita'",
            "\nDuring handling of the above exception, another exception occurred:\n",
            "\u001b[0;31mKeyError\u001b[0m                                  Traceback (most recent call last)",
            "\u001b[0;32m<ipython-input-18-5ffa0fda21dd>\u001b[0m in \u001b[0;36m<module>\u001b[0;34m()\u001b[0m\n\u001b[1;32m      1\u001b[0m \u001b[0mplt\u001b[0m\u001b[0;34m.\u001b[0m\u001b[0mfigure\u001b[0m\u001b[0;34m(\u001b[0m\u001b[0mfigsize\u001b[0m\u001b[0;34m=\u001b[0m\u001b[0;34m(\u001b[0m\u001b[0;36m18\u001b[0m\u001b[0;34m,\u001b[0m\u001b[0;36m7\u001b[0m\u001b[0;34m)\u001b[0m\u001b[0;34m)\u001b[0m\u001b[0;34m\u001b[0m\u001b[0;34m\u001b[0m\u001b[0m\n\u001b[1;32m      2\u001b[0m \u001b[0mplt\u001b[0m\u001b[0;34m.\u001b[0m\u001b[0mplot\u001b[0m\u001b[0;34m(\u001b[0m\u001b[0mdf_pg\u001b[0m\u001b[0;34m[\u001b[0m\u001b[0;34m'Total'\u001b[0m\u001b[0;34m]\u001b[0m\u001b[0;34m)\u001b[0m\u001b[0;34m\u001b[0m\u001b[0;34m\u001b[0m\u001b[0m\n\u001b[0;32m----> 3\u001b[0;31m \u001b[0mplt\u001b[0m\u001b[0;34m.\u001b[0m\u001b[0mplot\u001b[0m\u001b[0;34m(\u001b[0m\u001b[0mdf_pg\u001b[0m\u001b[0;34m[\u001b[0m\u001b[0;34m'Income_per_capita'\u001b[0m\u001b[0;34m]\u001b[0m\u001b[0;34m)\u001b[0m\u001b[0;34m\u001b[0m\u001b[0;34m\u001b[0m\u001b[0m\n\u001b[0m\u001b[1;32m      4\u001b[0m \u001b[0mplt\u001b[0m\u001b[0;34m.\u001b[0m\u001b[0mplot\u001b[0m\u001b[0;34m(\u001b[0m\u001b[0mdf_pg\u001b[0m\u001b[0;34m[\u001b[0m\u001b[0;34m'Installed_capacity'\u001b[0m\u001b[0;34m]\u001b[0m\u001b[0;34m)\u001b[0m\u001b[0;34m\u001b[0m\u001b[0;34m\u001b[0m\u001b[0m\n\u001b[1;32m      5\u001b[0m \u001b[0mplt\u001b[0m\u001b[0;34m.\u001b[0m\u001b[0mplot\u001b[0m\u001b[0;34m(\u001b[0m\u001b[0mdf_pg\u001b[0m\u001b[0;34m[\u001b[0m\u001b[0;34m'Mean_Air_Temp'\u001b[0m\u001b[0;34m]\u001b[0m\u001b[0;34m)\u001b[0m\u001b[0;34m\u001b[0m\u001b[0;34m\u001b[0m\u001b[0m\n",
            "\u001b[0;32m/usr/local/lib/python3.6/dist-packages/pandas/core/frame.py\u001b[0m in \u001b[0;36m__getitem__\u001b[0;34m(self, key)\u001b[0m\n\u001b[1;32m   2925\u001b[0m             \u001b[0;32mif\u001b[0m \u001b[0mself\u001b[0m\u001b[0;34m.\u001b[0m\u001b[0mcolumns\u001b[0m\u001b[0;34m.\u001b[0m\u001b[0mnlevels\u001b[0m \u001b[0;34m>\u001b[0m \u001b[0;36m1\u001b[0m\u001b[0;34m:\u001b[0m\u001b[0;34m\u001b[0m\u001b[0;34m\u001b[0m\u001b[0m\n\u001b[1;32m   2926\u001b[0m                 \u001b[0;32mreturn\u001b[0m \u001b[0mself\u001b[0m\u001b[0;34m.\u001b[0m\u001b[0m_getitem_multilevel\u001b[0m\u001b[0;34m(\u001b[0m\u001b[0mkey\u001b[0m\u001b[0;34m)\u001b[0m\u001b[0;34m\u001b[0m\u001b[0;34m\u001b[0m\u001b[0m\n\u001b[0;32m-> 2927\u001b[0;31m             \u001b[0mindexer\u001b[0m \u001b[0;34m=\u001b[0m \u001b[0mself\u001b[0m\u001b[0;34m.\u001b[0m\u001b[0mcolumns\u001b[0m\u001b[0;34m.\u001b[0m\u001b[0mget_loc\u001b[0m\u001b[0;34m(\u001b[0m\u001b[0mkey\u001b[0m\u001b[0;34m)\u001b[0m\u001b[0;34m\u001b[0m\u001b[0;34m\u001b[0m\u001b[0m\n\u001b[0m\u001b[1;32m   2928\u001b[0m             \u001b[0;32mif\u001b[0m \u001b[0mis_integer\u001b[0m\u001b[0;34m(\u001b[0m\u001b[0mindexer\u001b[0m\u001b[0;34m)\u001b[0m\u001b[0;34m:\u001b[0m\u001b[0;34m\u001b[0m\u001b[0;34m\u001b[0m\u001b[0m\n\u001b[1;32m   2929\u001b[0m                 \u001b[0mindexer\u001b[0m \u001b[0;34m=\u001b[0m \u001b[0;34m[\u001b[0m\u001b[0mindexer\u001b[0m\u001b[0;34m]\u001b[0m\u001b[0;34m\u001b[0m\u001b[0;34m\u001b[0m\u001b[0m\n",
            "\u001b[0;32m/usr/local/lib/python3.6/dist-packages/pandas/core/indexes/base.py\u001b[0m in \u001b[0;36mget_loc\u001b[0;34m(self, key, method, tolerance)\u001b[0m\n\u001b[1;32m   2657\u001b[0m                 \u001b[0;32mreturn\u001b[0m \u001b[0mself\u001b[0m\u001b[0;34m.\u001b[0m\u001b[0m_engine\u001b[0m\u001b[0;34m.\u001b[0m\u001b[0mget_loc\u001b[0m\u001b[0;34m(\u001b[0m\u001b[0mkey\u001b[0m\u001b[0;34m)\u001b[0m\u001b[0;34m\u001b[0m\u001b[0;34m\u001b[0m\u001b[0m\n\u001b[1;32m   2658\u001b[0m             \u001b[0;32mexcept\u001b[0m \u001b[0mKeyError\u001b[0m\u001b[0;34m:\u001b[0m\u001b[0;34m\u001b[0m\u001b[0;34m\u001b[0m\u001b[0m\n\u001b[0;32m-> 2659\u001b[0;31m                 \u001b[0;32mreturn\u001b[0m \u001b[0mself\u001b[0m\u001b[0;34m.\u001b[0m\u001b[0m_engine\u001b[0m\u001b[0;34m.\u001b[0m\u001b[0mget_loc\u001b[0m\u001b[0;34m(\u001b[0m\u001b[0mself\u001b[0m\u001b[0;34m.\u001b[0m\u001b[0m_maybe_cast_indexer\u001b[0m\u001b[0;34m(\u001b[0m\u001b[0mkey\u001b[0m\u001b[0;34m)\u001b[0m\u001b[0;34m)\u001b[0m\u001b[0;34m\u001b[0m\u001b[0;34m\u001b[0m\u001b[0m\n\u001b[0m\u001b[1;32m   2660\u001b[0m         \u001b[0mindexer\u001b[0m \u001b[0;34m=\u001b[0m \u001b[0mself\u001b[0m\u001b[0;34m.\u001b[0m\u001b[0mget_indexer\u001b[0m\u001b[0;34m(\u001b[0m\u001b[0;34m[\u001b[0m\u001b[0mkey\u001b[0m\u001b[0;34m]\u001b[0m\u001b[0;34m,\u001b[0m \u001b[0mmethod\u001b[0m\u001b[0;34m=\u001b[0m\u001b[0mmethod\u001b[0m\u001b[0;34m,\u001b[0m \u001b[0mtolerance\u001b[0m\u001b[0;34m=\u001b[0m\u001b[0mtolerance\u001b[0m\u001b[0;34m)\u001b[0m\u001b[0;34m\u001b[0m\u001b[0;34m\u001b[0m\u001b[0m\n\u001b[1;32m   2661\u001b[0m         \u001b[0;32mif\u001b[0m \u001b[0mindexer\u001b[0m\u001b[0;34m.\u001b[0m\u001b[0mndim\u001b[0m \u001b[0;34m>\u001b[0m \u001b[0;36m1\u001b[0m \u001b[0;32mor\u001b[0m \u001b[0mindexer\u001b[0m\u001b[0;34m.\u001b[0m\u001b[0msize\u001b[0m \u001b[0;34m>\u001b[0m \u001b[0;36m1\u001b[0m\u001b[0;34m:\u001b[0m\u001b[0;34m\u001b[0m\u001b[0;34m\u001b[0m\u001b[0m\n",
            "\u001b[0;32mpandas/_libs/index.pyx\u001b[0m in \u001b[0;36mpandas._libs.index.IndexEngine.get_loc\u001b[0;34m()\u001b[0m\n",
            "\u001b[0;32mpandas/_libs/index.pyx\u001b[0m in \u001b[0;36mpandas._libs.index.IndexEngine.get_loc\u001b[0;34m()\u001b[0m\n",
            "\u001b[0;32mpandas/_libs/hashtable_class_helper.pxi\u001b[0m in \u001b[0;36mpandas._libs.hashtable.PyObjectHashTable.get_item\u001b[0;34m()\u001b[0m\n",
            "\u001b[0;32mpandas/_libs/hashtable_class_helper.pxi\u001b[0m in \u001b[0;36mpandas._libs.hashtable.PyObjectHashTable.get_item\u001b[0;34m()\u001b[0m\n",
            "\u001b[0;31mKeyError\u001b[0m: 'Income_per_capita'"
          ]
        },
        {
          "output_type": "display_data",
          "data": {
            "image/png": "[encoded data removed]",
            "text/plain": [
              "<Figure size 1296x504 with 1 Axes>"
            ]
          },
          "metadata": {
            "tags": []
          }
        }
      ]
    },
    {
      "cell_type": "code",
      "metadata": {
        "id": "7H__Q3CEVAzi",
        "colab_type": "code",
        "colab": {}
      },
      "source": [
        "fig, ax1 = plt.subplots(figsize=(16,8))\n",
        "\n",
        "color = 'tab:blue'\n",
        "ax1.set_xlabel('Date(yyyy/mm/dd)')\n",
        "ax1.set_ylabel('Total Demand (GWh)', color=color)\n",
        "ax1.plot(df_pg['Total'], color=color)\n",
        "ax1.tick_params(axis='y', labelcolor=color)\n",
        "\n",
        "ax2 = ax1.twinx()  # instantiate a second axes that shares the same x-axis\n",
        "\n",
        "color = 'tab:red'\n",
        "ax2.set_ylabel('Temperature', color=color)  # we already handled the x-label with ax1\n",
        "ax2.plot(df_pg['Mean_Air_Temp'], color=color)\n",
        "ax2.tick_params(axis='y', labelcolor=color)\n",
        "\n",
        "fig.tight_layout()  # otherwise the right y-label is slightly clipped\n",
        "plt.show()"
      ],
      "execution_count": 0,
      "outputs": []
    },
    {
      "cell_type": "code",
      "metadata": {
        "id": "CpRXuRkfV-KM",
        "colab_type": "code",
        "colab": {}
      },
      "source": [
        "fig, ax1 = plt.subplots(figsize=(16,8))\n",
        "\n",
        "color = 'tab:blue'\n",
        "ax1.set_xlabel('date(yyyy/mm/dd)')\n",
        "ax1.set_ylabel('total', color=color)\n",
        "ax1.plot(df_pg['Total'], color=color)\n",
        "ax1.tick_params(axis='y', labelcolor=color)\n",
        "\n",
        "ax2 = ax1.twinx()  # instantiate a second axes that shares the same x-axis\n",
        "\n",
        "color = 'tab:red'\n",
        "ax2.set_ylabel('Temperature)', color=color)  # we already handled the x-label with ax1\n",
        "ax2.plot(df_pg['Max_Air_Temp'], color=color)\n",
        "ax2.tick_params(axis='y', labelcolor=color)\n",
        "\n",
        "fig.tight_layout()  # otherwise the right y-label is slightly clipped\n",
        "plt.show()"
      ],
      "execution_count": 0,
      "outputs": []
    },
    {
      "cell_type": "code",
      "metadata": {
        "id": "Y5Sr1vj20uRV",
        "colab_type": "code",
        "colab": {}
      },
      "source": [
        "plt.figure(figsize = (12, 6))\n",
        "\n",
        "plt.subplot(121)\n",
        "plt.title('Total Power Consumption Distribuition')\n",
        "sns.distplot(df_pg['Total'])\n",
        "\n",
        "plt.subplot(122)\n",
        "g1 = plt.scatter(range(df_pg.shape[0]), np.sort(df_pg.Total.values))\n",
        "g1 = plt.title(\"Total power consumption Curve Distribuition\", fontsize=15)\n",
        "g1 = plt.xlabel(\"\")\n",
        "g1 = plt.ylabel(\"Power (GWh)\", fontsize=12)\n",
        "\n",
        "plt.subplots_adjust(wspace = 0.3, hspace = 0.5,\n",
        "                    top = 0.9)\n",
        "plt.show()\n"
      ],
      "execution_count": 0,
      "outputs": []
    },
    {
      "cell_type": "code",
      "metadata": {
        "id": "2N-yn4Ef1FD9",
        "colab_type": "code",
        "colab": {}
      },
      "source": [
        "print(\"Total Min\")\n",
        "print(df_pg['Total'].min())\n",
        "print(\"Total Mean\")\n",
        "print(df_pg['Total'].mean())\n",
        "print(\"Total Median\")\n",
        "print(df_pg['Total'].median())\n",
        "print(\"Total Max\")\n",
        "print(df_pg['Total'].max())\n",
        "print(\"Total Std\")\n",
        "print(df_pg['Total'].std())"
      ],
      "execution_count": 0,
      "outputs": []
    },
    {
      "cell_type": "code",
      "metadata": {
        "id": "ImJ2pqXZ1uSW",
        "colab_type": "code",
        "colab": {}
      },
      "source": [
        "plt.figure(figsize = (8, 5))\n",
        "sns.jointplot(df_pg.Mean_Air_Temp, df_pg.Total, \n",
        "              alpha = 0.5)\n",
        "plt.xlabel('Mean_Air_Temp (degree_C)')\n",
        "plt.ylabel('Total (GWh)')\n",
        "plt.show()"
      ],
      "execution_count": 0,
      "outputs": []
    },
    {
      "cell_type": "code",
      "metadata": {
        "id": "buHqX4dhWaY7",
        "colab_type": "code",
        "colab": {}
      },
      "source": [
        "plt.figure(figsize = (8, 5))\n",
        "sns.jointplot(df_pg.Income_per_capital, df_pg.Total, \n",
        "              alpha = 0.5)\n",
        "plt.xlabel('')\n",
        "plt.ylabel('Total (GWh)')\n",
        "plt.show()"
      ],
      "execution_count": 0,
      "outputs": []
    },
    {
      "cell_type": "markdown",
      "metadata": {
        "id": "MuuxLRPU2Qhe",
        "colab_type": "text"
      },
      "source": [
        "# Correlation Matrix"
      ]
    },
    {
      "cell_type": "code",
      "metadata": {
        "id": "oYS9DVre2UWN",
        "colab_type": "code",
        "colab": {}
      },
      "source": [
        "corr = df_pg[['Total', 'Income_per_capita', 'Installed_capacity', 'Mean_Air_Temp', 'Max_Air_Temp', 'Min_Air_Temp']]\n",
        "\n",
        "plt.figure(figsize=(10,8))\n",
        "plt.title('Correlation of variables')\n",
        "sns.heatmap(corr.astype(float).corr(),vmax=1.0,  annot=True)\n",
        "plt.show()"
      ],
      "execution_count": 0,
      "outputs": []
    },
    {
      "cell_type": "code",
      "metadata": {
        "id": "EbLdq2cu4un-",
        "colab_type": "code",
        "colab": {}
      },
      "source": [
        "from sklearn.model_selection import train_test_split, KFold, cross_val_score # to split the data\n",
        "from sklearn.metrics import explained_variance_score, median_absolute_error, r2_score, mean_squared_error, accuracy_score, confusion_matrix, classification_report, fbeta_score #To evaluate our model"
      ],
      "execution_count": 0,
      "outputs": []
    },
    {
      "cell_type": "code",
      "metadata": {
        "id": "dSA1_tWd20UV",
        "colab_type": "code",
        "colab": {}
      },
      "source": [
        "########################################################\n",
        "######## IMPORTING NECESSARY MODULES AND MODELS ########\n",
        "########################################################\n",
        "\n",
        "from sklearn.linear_model import SGDRegressor\n",
        "from sklearn.model_selection import KFold, cross_val_score, train_test_split, TimeSeriesSplit # Model evaluation\n",
        "from sklearn.preprocessing import LabelEncoder, OneHotEncoder, StandardScaler # Preprocessing\n",
        "from sklearn.linear_model import Lasso, Ridge, ElasticNet, RANSACRegressor, SGDRegressor, HuberRegressor, BayesianRidge # Linear models\n",
        "from sklearn.ensemble import RandomForestRegressor, BaggingRegressor, AdaBoostRegressor, GradientBoostingRegressor, ExtraTreesRegressor  # Ensemble methods\n",
        "from xgboost import XGBRegressor, plot_importance # XGBoost\n",
        "from sklearn.svm import SVR, SVC, LinearSVC  # Support Vector Regression\n",
        "from sklearn.tree import DecisionTreeRegressor # Decision Tree Regression\n",
        "from sklearn.neighbors import KNeighborsRegressor\n",
        "from sklearn.pipeline import Pipeline # Streaming pipelines\n",
        "from sklearn.decomposition import KernelPCA, PCA # Dimensionality reduction\n",
        "from sklearn.feature_selection import SelectFromModel # Dimensionality reduction\n",
        "from sklearn.model_selection import learning_curve, validation_curve, GridSearchCV # Model evaluation\n",
        "from sklearn.base import clone # Clone estimator\n",
        "from sklearn.metrics import mean_squared_error as MSE"
      ],
      "execution_count": 0,
      "outputs": []
    },
    {
      "cell_type": "code",
      "metadata": {
        "id": "2C-U0ViC4hVb",
        "colab_type": "code",
        "colab": {}
      },
      "source": [
        "num_samples = df_pg.shape[0]\n",
        "window_size = 12 \n",
        "num_splits = num_samples - window_size\n",
        "\n",
        "print (num_samples, num_splits)\n",
        "tss = TimeSeriesSplit(n_splits=num_splits, max_train_size=1)\n"
      ],
      "execution_count": 0,
      "outputs": []
    },
    {
      "cell_type": "code",
      "metadata": {
        "id": "E3vpDS-j3JCl",
        "colab_type": "code",
        "colab": {}
      },
      "source": [
        "X = df_pg.drop(\"Total\" ,axis=1).values\n",
        "#X = df_pg([\"income_per_capita\",\"Mean_Air_Temp\",\"Max_Air_Temp\",\"Min_Air_Temp\"]).values\n",
        "y = df_pg[\"Total\"].values\n",
        "\n",
        "X_train = []\n",
        "X_test = []\n",
        "y_train = []\n",
        "y_test = []\n",
        "\n",
        "for train_index, test_index in tss.split(X):\n",
        "  print(\"TRAIN:\", train_index, \"TEST:\", test_index)\n",
        "  X_train_loopback = []\n",
        "  X_test_loopback = []\n",
        "  for i in range(1, window_size):\n",
        "    X_train_loopback.append(X[train_index - i].reshape(-1))\n",
        "    X_test_loopback.append(X[test_index - i].reshape(-1))\n",
        "    \n",
        "  \n",
        "  X_train.append(np.concatenate(X_train_loopback).ravel())\n",
        "  y_train.append(y[train_index].reshape(-1))\n",
        "  X_test.append(np.concatenate(X_test_loopback).ravel())\n",
        "  y_test.append(y[test_index].reshape(-1))"
      ],
      "execution_count": 0,
      "outputs": []
    },
    {
      "cell_type": "code",
      "metadata": {
        "id": "mL55IPPK-A3b",
        "colab_type": "code",
        "colab": {}
      },
      "source": [
        "print (X_train[13], y_train[13])"
      ],
      "execution_count": 0,
      "outputs": []
    },
    {
      "cell_type": "code",
      "metadata": {
        "id": "JZbsIyF43e_2",
        "colab_type": "code",
        "colab": {}
      },
      "source": [
        "thresh = 5 * 10**(-3)\n",
        "model = XGBRegressor()\n",
        "model.fit(X_train, y_train)\n",
        "#select features using threshold\n",
        "selection = SelectFromModel(model, threshold=thresh, prefit=True)\n",
        "select_X_train = selection.transform(X_train)\n",
        "# eval model\n",
        "select_X_val = selection.transform(X_test)\n",
        "# test \n",
        "select_X_test = selection.transform(X_test)"
      ],
      "execution_count": 0,
      "outputs": []
    },
    {
      "cell_type": "code",
      "metadata": {
        "id": "L5HDbuG23gkG",
        "colab_type": "code",
        "colab": {}
      },
      "source": [
        "pipelines = []\n",
        "seed = 2\n",
        "\n",
        "pipelines.append(\n",
        "                (\"Scaled_Ridge\", \n",
        "                 Pipeline([\n",
        "                     (\"Scaler\", StandardScaler()), \n",
        "                     (\"Ridge\", Ridge(random_state=seed, tol=10 ))\n",
        "                      ]))\n",
        "                )\n",
        "pipelines.append(\n",
        "                (\"Scaled_Lasso\", \n",
        "                 Pipeline([\n",
        "                     (\"Scaler\", StandardScaler()), \n",
        "                     (\"Lasso\", Lasso(random_state=seed, tol=1))\n",
        "                      ]))\n",
        "                )\n",
        "pipelines.append(\n",
        "                (\"Scaled_Elastic\", \n",
        "                 Pipeline([\n",
        "                     (\"Scaler\", StandardScaler()), \n",
        "                     (\"Lasso\", ElasticNet(random_state=seed))\n",
        "                      ]))\n",
        "                )\n",
        "\n",
        "pipelines.append(\n",
        "                (\"Scaled_SVR\",\n",
        "                 Pipeline([\n",
        "                     (\"Scaler\", StandardScaler()),\n",
        "                     (\"SVR\",  SVR(kernel='linear', C=1e2, degree=5))\n",
        "                 ])\n",
        "                )\n",
        "                )\n",
        "\n",
        "pipelines.append(\n",
        "                (\"Scaled_RF_reg\",\n",
        "                 Pipeline([\n",
        "                     (\"Scaler\", StandardScaler()),\n",
        "                     (\"RF\", RandomForestRegressor(random_state=seed))\n",
        "                 ])\n",
        "                )\n",
        "                )\n",
        "\n",
        "pipelines.append(\n",
        "                (\"Scaled_ET_reg\",\n",
        "                 Pipeline([\n",
        "                     (\"Scaler\", StandardScaler()),\n",
        "                     (\"ET\", ExtraTreesRegressor(random_state=seed))\n",
        "                 ])\n",
        "                )\n",
        "                )\n",
        "pipelines.append(\n",
        "                (\"Scaled_BR_reg\",\n",
        "                 Pipeline([\n",
        "                     (\"Scaler\", StandardScaler()),\n",
        "                     (\"BR\", BaggingRegressor(random_state=seed))\n",
        "                 ]))) \n",
        "\n",
        "pipelines.append(\n",
        "                (\"Scaled_Hub-Reg\",\n",
        "                 Pipeline([\n",
        "                     (\"Scaler\", StandardScaler()),\n",
        "                     (\"Hub-Reg\", HuberRegressor())\n",
        "                 ]))) \n",
        "pipelines.append(\n",
        "                (\"Scaled_BayRidge\",\n",
        "                 Pipeline([\n",
        "                     (\"Scaler\", StandardScaler()),\n",
        "                     (\"BR\", BayesianRidge())\n",
        "                 ]))) \n",
        "\n",
        "pipelines.append(\n",
        "                (\"Scaled_XGB_reg\",\n",
        "                 Pipeline([\n",
        "                     (\"Scaler\", StandardScaler()),\n",
        "                     (\"XGBR\", XGBRegressor(seed=seed))\n",
        "                 ]))) \n",
        "\n",
        "pipelines.append(\n",
        "                (\"Scaled_DT_reg\",\n",
        "                 Pipeline([\n",
        "                     (\"Scaler\", StandardScaler()),\n",
        "                     (\"DT_reg\", DecisionTreeRegressor())\n",
        "                 ]))) \n",
        "\n",
        "pipelines.append(\n",
        "                (\"Scaled_KNN_reg\",\n",
        "                 Pipeline([\n",
        "                     (\"Scaler\", StandardScaler()),\n",
        "                     (\"KNN_reg\", KNeighborsRegressor())\n",
        "                 ])))\n",
        "\n",
        "pipelines.append(\n",
        "                (\"Scaled_Gboost-Reg\",\n",
        "                 Pipeline([\n",
        "                     (\"Scaler\", StandardScaler()),\n",
        "                     (\"GBoost-Reg\", GradientBoostingRegressor())\n",
        "                 ])))\n",
        "\n",
        "pipelines.append(\n",
        "                (\"Scaled_RFR_PCA\",\n",
        "                 Pipeline([\n",
        "                     (\"Scaler\", StandardScaler()),\n",
        "                     (\"PCA\", PCA(n_components=3)),\n",
        "                     (\"XGB\", RandomForestRegressor())\n",
        "                 ])))\n",
        "\n",
        "pipelines.append(\n",
        "                (\"Scaled_XGBR_PCA\",\n",
        "                 Pipeline([\n",
        "                     (\"Scaler\", StandardScaler()),\n",
        "                     (\"PCA\", PCA(n_components=3)),\n",
        "                     (\"XGB\", XGBRegressor())\n",
        "                 ])))"
      ],
      "execution_count": 0,
      "outputs": []
    },
    {
      "cell_type": "code",
      "metadata": {
        "id": "RUDo9v6H3oSW",
        "colab_type": "code",
        "colab": {}
      },
      "source": [
        "#'neg_mean_absolute_error', 'neg_mean_squared_error','r2'\n",
        "scoring = 'r2'\n",
        "n_folds = 7\n",
        "\n",
        "results, names  = [], [] \n",
        "\n",
        "for name, model  in pipelines:\n",
        "    kfold = KFold(n_splits=n_folds, random_state=seed)\n",
        "    cv_results = cross_val_score(model, X_train, y_train, cv= kfold,\n",
        "                                 scoring=scoring, n_jobs=-1)    \n",
        "    names.append(name)\n",
        "    results.append(cv_results)    \n",
        "    msg = \"%s: %f (+/- %f)\" % (name, cv_results.mean(),  cv_results.std())\n",
        "    print(msg)"
      ],
      "execution_count": 0,
      "outputs": []
    },
    {
      "cell_type": "code",
      "metadata": {
        "id": "n9nyakO73sZm",
        "colab_type": "code",
        "colab": {}
      },
      "source": [
        "# boxplot algorithm comparison\n",
        "fig = plt.figure(figsize=(15,15))\n",
        "fig.suptitle('Algorithm Comparison', fontsize=22)\n",
        "ax = fig.add_subplot(111)\n",
        "sns.boxplot(x=names, y=results)\n",
        "ax.set_xticklabels(names)\n",
        "ax.set_xlabel(\"Names of Algorithm\", fontsize=20)\n",
        "ax.set_ylabel(\"R Squared Score of Models\", fontsize=18)\n",
        "ax.set_xticklabels(ax.get_xticklabels(),rotation=45)\n",
        "plt.show()"
      ],
      "execution_count": 0,
      "outputs": []
    },
    {
      "cell_type": "markdown",
      "metadata": {
        "id": "cKU4fYiw3y3I",
        "colab_type": "text"
      },
      "source": [
        "# Testing the best models"
      ]
    },
    {
      "cell_type": "code",
      "metadata": {
        "id": "za46DvNc30ct",
        "colab_type": "code",
        "colab": {}
      },
      "source": [
        "xgb = XGBRegressor(n_estimators=100, learning_rate=0.08, gamma=0, subsample=0.75, colsample_bytree=1, max_depth=7)\n",
        "#xgb=BayesianRidge(alpha_1=1e-06, alpha_2=1e-06, compute_score=False,\n",
        "#        copy_X=True, fit_intercept=True, lambda_1=1e-06, lambda_2=1e-06,\n",
        "#        n_iter=300, normalize=False, tol=0.001, verbose=False)"
      ],
      "execution_count": 0,
      "outputs": []
    },
    {
      "cell_type": "code",
      "metadata": {
        "id": "3qkYz0cm32IV",
        "colab_type": "code",
        "colab": {}
      },
      "source": [
        "xgb.fit(X_train, y_train)"
      ],
      "execution_count": 0,
      "outputs": []
    },
    {
      "cell_type": "code",
      "metadata": {
        "id": "jPralY3D33L9",
        "colab_type": "code",
        "colab": {}
      },
      "source": [
        "y_hat = xgb.predict(X_test)\n",
        "xgb.score(X_test,y_test)"
      ],
      "execution_count": 0,
      "outputs": []
    },
    {
      "cell_type": "code",
      "metadata": {
        "id": "HQQkbM47hD8q",
        "colab_type": "code",
        "colab": {}
      },
      "source": [
        "new_output = xgb.predict([ 3.66350000e+04,  1.82919196e+04 , 7.34700000e+04 , 1.01000000e+01,\n",
        " -1.29000000e+01,  3.35310000e+04,  1.82919196e+04,  7.34700000e+04,\n",
        "  2.18000000e+01, -4.30000000e+00,  3.10440000e+04,  1.82919196e+04,\n",
        "  7.34700000e+04 , 2.64000000e+01,  6.20000000e+00,  3.35250000e+04,\n",
        "  1.82919196e+04,  7.34700000e+04,  2.99000000e+01,  1.44000000e+01,\n",
        "  3.30440000e+04,  1.82919196e+04,  7.34700000e+04,  3.44000000e+01,\n",
        "  1.64000000e+01,  3.24310000e+04,  1.82919196e+04,  7.34700000e+04,\n",
        "  3.24000000e+01,  1.87000000e+01,  3.10790000e+04,  1.82919196e+04,\n",
        "  7.34700000e+04,  3.24000000e+01,  1.43000000e+01,  3.04360000e+04,\n",
        "  1.82919196e+04,  7.34700000e+04,  3.10000000e+01,  9.80000000e+00,\n",
        "  3.24780000e+04,  1.82919196e+04,  7.34700000e+04,  2.58000000e+01,\n",
        "  2.20000000e+00,  3.26150000e+04,  1.82919196e+04,  7.34700000e+04,\n",
        "  2.22000000e+01, -3.30000000e+00,  3.33060000e+04,  1.82919196e+04,\n",
        "  7.34700000e+04,  1.61000000e+01, -8.60000000e+00] )\n",
        "print (new_output)"
      ],
      "execution_count": 0,
      "outputs": []
    },
    {
      "cell_type": "code",
      "metadata": {
        "id": "F1IlCs76gkT6",
        "colab_type": "code",
        "colab": {}
      },
      "source": [
        "fig, ax1 = plt.subplots(figsize=(16,8))\n",
        "\n",
        "color = 'tab:blue'\n",
        "ax1.set_xlabel('# of Data')\n",
        "ax1.set_ylabel('Ground Truth(GWh)', color=color)\n",
        "ax1.plot(y_test, color=color)\n",
        "ax1.tick_params(axis='y', labelcolor=color)\n",
        "\n",
        "ax2 = ax1.twinx()  # instantiate a second axes that shares the same x-axis\n",
        "\n",
        "color = 'tab:red'\n",
        "ax2.set_ylabel('Prediction(GWh)', color=color)  # we already handled the x-label with ax1\n",
        "ax2.plot(y_hat, color=color)\n",
        "ax2.tick_params(axis='y', labelcolor=color)\n",
        "\n",
        "fig.tight_layout()  # otherwise the right y-label is slightly clipped\n",
        "plt.show()"
      ],
      "execution_count": 0,
      "outputs": []
    },
    {
      "cell_type": "markdown",
      "metadata": {
        "id": "j1H0zxOv4Nw2",
        "colab_type": "text"
      },
      "source": [
        "## Randomized Search in RandomForest Regressor\n"
      ]
    },
    {
      "cell_type": "code",
      "metadata": {
        "id": "czI6Rrbv35We",
        "colab_type": "code",
        "colab": {}
      },
      "source": [
        "from sklearn.model_selection import RandomizedSearchCV\n",
        "# Number of trees in random forest\n",
        "n_estimators = [int(x) for x in np.linspace(start = 10, stop = 200, num = 10)]\n",
        "# Number of features to consider at every split\n",
        "max_features = ['auto', 'sqrt']\n",
        "# Maximum number of levels in tree\n",
        "max_depth = [int(x) for x in np.linspace(10, 110, num = 11)]\n",
        "max_depth.append(None)\n",
        "# Minimum number of samples required to split a node\n",
        "min_samples_split = [2, 5, 10]\n",
        "# Minimum number of samples required at each leaf node\n",
        "min_samples_leaf = [1, 2, 4]\n",
        "# Method of selecting samples for training each tree\n",
        "bootstrap = [True, False]\n",
        "# Create the random grid\n",
        "random_grid = {'n_estimators': n_estimators,\n",
        "               'max_features': max_features,\n",
        "               'max_depth': max_depth,\n",
        "               'min_samples_split': min_samples_split,\n",
        "               'min_samples_leaf': min_samples_leaf,\n",
        "               'bootstrap': bootstrap}"
      ],
      "execution_count": 0,
      "outputs": []
    },
    {
      "cell_type": "markdown",
      "metadata": {
        "id": "jUqBOEzK4Urv",
        "colab_type": "text"
      },
      "source": [
        "## Using Random Search to find the best Hyper Paramns"
      ]
    },
    {
      "cell_type": "code",
      "metadata": {
        "id": "_3HvkEvN4SKd",
        "colab_type": "code",
        "colab": {}
      },
      "source": [
        "# Use the random grid to search for best hyperparameters\n",
        "# First create the base model to tune\n",
        "rf = RandomForestRegressor()\n",
        "# Random search of parameters, using 3 fold cross validation, \n",
        "# search across 100 different combinations, and use all available cores\n",
        "rf_random = RandomizedSearchCV(estimator = rf, param_distributions = random_grid, n_iter = 100, cv = 3, verbose=2, random_state=42, n_jobs = -1)\n",
        "# Fit the random search model\n",
        "rf_random.fit(X_train, y_train)"
      ],
      "execution_count": 0,
      "outputs": []
    },
    {
      "cell_type": "code",
      "metadata": {
        "id": "ooJHP_6q4asl",
        "colab_type": "code",
        "colab": {}
      },
      "source": [
        "#Knowning the best params\n",
        "rf_random.best_params_"
      ],
      "execution_count": 0,
      "outputs": []
    },
    {
      "cell_type": "code",
      "metadata": {
        "id": "b7zQKMOk4iJu",
        "colab_type": "code",
        "colab": {}
      },
      "source": [
        "# Predicting with best params\n",
        "y_hat_Search = rf_random.predict(X_test)"
      ],
      "execution_count": 0,
      "outputs": []
    },
    {
      "cell_type": "code",
      "metadata": {
        "id": "D9ziSX854jwF",
        "colab_type": "code",
        "colab": {}
      },
      "source": [
        "print(\"XGBoost Regressor R2-score: {}\".format(round(r2_score(y_hat, y_test),4)))\n",
        "print(\"RandomForest Regressor Prediction R2-score: {}\".format(round(r2_score(y_hat_Search, y_test),4)))\n",
        "print(\"\\nMSE of XGBoost Regressor: {}\".format(median_absolute_error(y_hat, y_test)))\n",
        "print(\"MSE of RandomForest Regressor: {} \".format(median_absolute_error(y_hat_Search, y_test)))"
      ],
      "execution_count": 0,
      "outputs": []
    },
    {
      "cell_type": "markdown",
      "metadata": {
        "id": "wx4m2tx39ylo",
        "colab_type": "text"
      },
      "source": [
        "### [END_OF_FILE]"
      ]
    },
    {
      "cell_type": "code",
      "metadata": {
        "id": "s5JykrPh2jc1",
        "colab_type": "code",
        "colab": {}
      },
      "source": [
        ""
      ],
      "execution_count": 0,
      "outputs": []
    },
    {
      "cell_type": "markdown",
      "metadata": {
        "id": "lz4_ucKM-uik",
        "colab_type": "text"
      },
      "source": [
        ""
      ]
    }
  ]
}